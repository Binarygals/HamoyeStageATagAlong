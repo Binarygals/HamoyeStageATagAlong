{
 "cells": [
  {
   "cell_type": "code",
   "execution_count": 1,
   "id": "e1ae7dc3-bce8-4212-aa2b-cc3c6ae48879",
   "metadata": {},
   "outputs": [
    {
     "data": {
      "text/plain": [
       "'e'"
      ]
     },
     "execution_count": 1,
     "metadata": {},
     "output_type": "execute_result"
    }
   ],
   "source": [
    "#Question 1\n",
    "S = [['him', 'sell'], [90, 28, 43]]\n",
    "\n",
    "S[0][1][1]"
   ]
  },
  {
   "cell_type": "code",
   "execution_count": 14,
   "id": "2c2c0a4d-1e4b-4f19-ab78-ac4f06577eef",
   "metadata": {},
   "outputs": [
    {
     "name": "stdout",
     "output_type": "stream",
     "text": [
      "Egypt            866379.92\n",
      "Nigeria         1483268.23\n",
      "Ethiopia         448683.76\n",
      "South Africa     517590.54\n",
      "Kenya            264660.66\n",
      "Name: Y2017, dtype: float64\n"
     ]
    }
   ],
   "source": [
    "#Q 2:\n",
    "import pandas as pd\n",
    "FoodDataSet=pd.read_csv('https://github.com/HamoyeHQ/HDSC-Introduction-to-Python-for-machine-learning/files/7768140/FoodBalanceSheets_E_Africa_NOFLAG.csv', encoding=\"latin-1\")\n",
    "df=FoodDataSet.groupby('Area')['Y2017'].sum().filter({'Nigeria','South Africa','Egypt','Kenya','Ethiopia'})\n",
    "print(df)"
   ]
  },
  {
   "cell_type": "code",
   "execution_count": 85,
   "id": "751718f1-5876-40d4-a28e-0daf00e7adef",
   "metadata": {},
   "outputs": [
    {
     "name": "stdout",
     "output_type": "stream",
     "text": [
      "Area with the 7th lowest sum in 2017: Guinea-Bissau\n"
     ]
    }
   ],
   "source": [
    "#Q 3:\n",
    "df_filtered = FoodDataSet[['Y2017', 'Area']]\n",
    "area_sums = df_filtered.groupby('Area')['Y2017'].sum()\n",
    "sorted_areas = area_sums.sort_values(ascending=True)\n",
    "seventh_lowest_area = sorted_areas.index[6]  # Adjust index position if needed\n",
    "print(\"Area with the 7th lowest sum in 2017:\", seventh_lowest_area)\n"
   ]
  },
  {
   "cell_type": "code",
   "execution_count": 17,
   "id": "af6f2acf-d1aa-49d6-bb26-c09a346ea9ba",
   "metadata": {},
   "outputs": [
    {
     "ename": "TypeError",
     "evalue": "'tuple' object does not support item assignment",
     "output_type": "error",
     "traceback": [
      "\u001b[1;31m---------------------------------------------------------------------------\u001b[0m",
      "\u001b[1;31mTypeError\u001b[0m                                 Traceback (most recent call last)",
      "Cell \u001b[1;32mIn[17], line 5\u001b[0m\n\u001b[0;32m      2\u001b[0m \u001b[38;5;28;01mimport\u001b[39;00m \u001b[38;5;21;01mnumpy\u001b[39;00m \u001b[38;5;28;01mas\u001b[39;00m \u001b[38;5;21;01mnp\u001b[39;00m\n\u001b[0;32m      3\u001b[0m my_tuppy \u001b[38;5;241m=\u001b[39m (\u001b[38;5;241m1\u001b[39m,\u001b[38;5;241m2\u001b[39m,\u001b[38;5;241m5\u001b[39m,\u001b[38;5;241m8\u001b[39m)\n\u001b[1;32m----> 5\u001b[0m my_tuppy[\u001b[38;5;241m2\u001b[39m] \u001b[38;5;241m=\u001b[39m \u001b[38;5;241m6\u001b[39m\n",
      "\u001b[1;31mTypeError\u001b[0m: 'tuple' object does not support item assignment"
     ]
    }
   ],
   "source": [
    "#Q 4:\n",
    "import numpy as np\n",
    "my_tuppy = (1,2,5,8)\n",
    "\n",
    "my_tuppy[2] = 6"
   ]
  },
  {
   "cell_type": "code",
   "execution_count": 28,
   "id": "6ca832c2-da88-49b6-b716-450fc31719d1",
   "metadata": {},
   "outputs": [
    {
     "data": {
      "text/plain": [
       "Processing    292836.0\n",
       "Name: Y2017, dtype: float64"
      ]
     },
     "execution_count": 28,
     "metadata": {},
     "output_type": "execute_result"
    }
   ],
   "source": [
    "#Q 8\n",
    "FoodDataSet.groupby('Element')['Y2017'].sum().filter({'Processing'})\n"
   ]
  },
  {
   "cell_type": "code",
   "execution_count": 93,
   "id": "3f3d15b9-c950-48ca-8e81-fcb7883d7862",
   "metadata": {},
   "outputs": [
    {
     "data": {
      "text/html": [
       "<div>\n",
       "<style scoped>\n",
       "    .dataframe tbody tr th:only-of-type {\n",
       "        vertical-align: middle;\n",
       "    }\n",
       "\n",
       "    .dataframe tbody tr th {\n",
       "        vertical-align: top;\n",
       "    }\n",
       "\n",
       "    .dataframe thead th {\n",
       "        text-align: right;\n",
       "    }\n",
       "</style>\n",
       "<table border=\"1\" class=\"dataframe\">\n",
       "  <thead>\n",
       "    <tr style=\"text-align: right;\">\n",
       "      <th></th>\n",
       "      <th>Y2014</th>\n",
       "      <th>Y2015</th>\n",
       "      <th>Y2016</th>\n",
       "      <th>Y2017</th>\n",
       "      <th>Y2018</th>\n",
       "    </tr>\n",
       "    <tr>\n",
       "      <th>Element</th>\n",
       "      <th></th>\n",
       "      <th></th>\n",
       "      <th></th>\n",
       "      <th></th>\n",
       "      <th></th>\n",
       "    </tr>\n",
       "  </thead>\n",
       "  <tbody>\n",
       "    <tr>\n",
       "      <th>Stock Variation</th>\n",
       "      <td>58749.83</td>\n",
       "      <td>34910.99</td>\n",
       "      <td>33140.12</td>\n",
       "      <td>54316.91</td>\n",
       "      <td>20577.91</td>\n",
       "    </tr>\n",
       "  </tbody>\n",
       "</table>\n",
       "</div>"
      ],
      "text/plain": [
       "                    Y2014     Y2015     Y2016     Y2017     Y2018\n",
       "Element                                                          \n",
       "Stock Variation  58749.83  34910.99  33140.12  54316.91  20577.91"
      ]
     },
     "execution_count": 93,
     "metadata": {},
     "output_type": "execute_result"
    }
   ],
   "source": [
    "#Q9:\n",
    "df_filtered = FoodDataSet[FoodDataSet['Element'] == 'Stock Variation']\n",
    "df_filtered.groupby('Element')[['Y2014','Y2015','Y2016','Y2017', 'Y2018']].sum()\n",
    "\n",
    "\n"
   ]
  },
  {
   "cell_type": "code",
   "execution_count": 43,
   "id": "dff80a11-ce7d-4110-ad21-abf224a46ee9",
   "metadata": {},
   "outputs": [
    {
     "name": "stdout",
     "output_type": "stream",
     "text": [
      "8\n"
     ]
    }
   ],
   "source": [
    "#Q 10\n",
    "y = [(2, 4), (7, 8), (1, 5, 9)]\n",
    "x=y[1][1]\n",
    "print(x)"
   ]
  },
  {
   "cell_type": "code",
   "execution_count": 108,
   "id": "052f180c-801c-4d92-bcc6-3b7c09c72f73",
   "metadata": {},
   "outputs": [
    {
     "name": "stdout",
     "output_type": "stream",
     "text": [
      "Corelation: (0.024456819495221795, 0.02388919930163992, 0.023443997584961428, 0.02425400776004572, 0.02427857195351955)\n"
     ]
    }
   ],
   "source": [
    "#Q11\n",
    "#2016 has the least corelation\n",
    "\n",
    "df_filtered = FoodDataSet[['Y2014','Y2015','Y2016','Y2017','Y2018','Element Code']]\n",
    "\n",
    "print(f\"Corelation: {df_filtered['Element Code'].corr(df_filtered['Y2014']),df_filtered['Element Code'].corr(df_filtered['Y2015']),df_filtered['Element Code'].corr(df_filtered['Y2016']),df_filtered['Element Code'].corr(df_filtered['Y2017']),df_filtered['Element Code'].corr(df_filtered['Y2018'])}\")\n"
   ]
  },
  {
   "cell_type": "code",
   "execution_count": 113,
   "id": "58b5c6b3-d3a4-4eb9-9202-52ef2bee60f6",
   "metadata": {},
   "outputs": [
    {
     "data": {
      "text/plain": [
       "Area Code          0\n",
       "Area               0\n",
       "Item Code          0\n",
       "Item               0\n",
       "Element Code       0\n",
       "Element            0\n",
       "Unit               0\n",
       "Y2014           1589\n",
       "Y2015           1548\n",
       "Y2016           1535\n",
       "Y2017           1506\n",
       "Y2018           1436\n",
       "dtype: int64"
      ]
     },
     "execution_count": 113,
     "metadata": {},
     "output_type": "execute_result"
    }
   ],
   "source": [
    "#Q12\n",
    "#Looking at the total number I could answer the question because the sum for Year 2014 only matches one of the options.\n",
    "FoodDataSet.isnull().sum()\n"
   ]
  },
  {
   "cell_type": "code",
   "execution_count": 126,
   "id": "0b1fb268-5d4d-4a3c-a80a-2325a41ef1ef",
   "metadata": {},
   "outputs": [
    {
     "name": "stdout",
     "output_type": "stream",
     "text": [
      "Mean: 140.9177648602722 Std Deviation: 1671.8623590572788\n"
     ]
    }
   ],
   "source": [
    "#Q13:\n",
    "df_2017 = FoodDataSet['Y2017'] \n",
    "# Calculate mean and standard deviation\n",
    "mean=df_2017.mean()\n",
    "print( f\"Mean: {mean} Std Deviation: { df_2017.std()}\")"
   ]
  },
  {
   "cell_type": "code",
   "execution_count": 127,
   "id": "25badabd-a165-4adf-8d3b-353c73dead9c",
   "metadata": {},
   "outputs": [
    {
     "data": {
      "text/html": [
       "<div>\n",
       "<style scoped>\n",
       "    .dataframe tbody tr th:only-of-type {\n",
       "        vertical-align: middle;\n",
       "    }\n",
       "\n",
       "    .dataframe tbody tr th {\n",
       "        vertical-align: top;\n",
       "    }\n",
       "\n",
       "    .dataframe thead th {\n",
       "        text-align: right;\n",
       "    }\n",
       "</style>\n",
       "<table border=\"1\" class=\"dataframe\">\n",
       "  <thead>\n",
       "    <tr style=\"text-align: right;\">\n",
       "      <th></th>\n",
       "      <th>Y2015</th>\n",
       "      <th>Y2018</th>\n",
       "    </tr>\n",
       "    <tr>\n",
       "      <th>Item</th>\n",
       "      <th></th>\n",
       "      <th></th>\n",
       "    </tr>\n",
       "  </thead>\n",
       "  <tbody>\n",
       "    <tr>\n",
       "      <th>Wine</th>\n",
       "      <td>4251.81</td>\n",
       "      <td>4039.32</td>\n",
       "    </tr>\n",
       "  </tbody>\n",
       "</table>\n",
       "</div>"
      ],
      "text/plain": [
       "        Y2015    Y2018\n",
       "Item                  \n",
       "Wine  4251.81  4039.32"
      ]
     },
     "execution_count": 127,
     "metadata": {},
     "output_type": "execute_result"
    }
   ],
   "source": [
    "#Q 15: Wine Produced\n",
    "FoodDataSet.groupby('Item')[['Y2015','Y2018']].sum()\n",
    "df_filtered = FoodDataSet[FoodDataSet['Item'] == 'Wine']\n",
    "df_filtered.groupby('Item')[['Y2015', 'Y2018']].sum()"
   ]
  },
  {
   "cell_type": "code",
   "execution_count": 55,
   "id": "eac2d6a3-841d-47ea-861b-7f73387af82c",
   "metadata": {},
   "outputs": [
    {
     "data": {
      "text/plain": [
       "(60943, 12)"
      ]
     },
     "execution_count": 55,
     "metadata": {},
     "output_type": "execute_result"
    }
   ],
   "source": [
    "#Q 16\n",
    "FoodDataSet.shape"
   ]
  },
  {
   "cell_type": "code",
   "execution_count": 136,
   "id": "54be0903-9642-4e7d-b9d9-50f124f994fd",
   "metadata": {},
   "outputs": [
    {
     "data": {
      "text/html": [
       "<div>\n",
       "<style scoped>\n",
       "    .dataframe tbody tr th:only-of-type {\n",
       "        vertical-align: middle;\n",
       "    }\n",
       "\n",
       "    .dataframe tbody tr th {\n",
       "        vertical-align: top;\n",
       "    }\n",
       "\n",
       "    .dataframe thead th {\n",
       "        text-align: right;\n",
       "    }\n",
       "</style>\n",
       "<table border=\"1\" class=\"dataframe\">\n",
       "  <thead>\n",
       "    <tr style=\"text-align: right;\">\n",
       "      <th></th>\n",
       "      <th>Y2015</th>\n",
       "    </tr>\n",
       "    <tr>\n",
       "      <th>Element</th>\n",
       "      <th></th>\n",
       "    </tr>\n",
       "  </thead>\n",
       "  <tbody>\n",
       "    <tr>\n",
       "      <th>Domestic supply quantity</th>\n",
       "      <td>2021493.55</td>\n",
       "    </tr>\n",
       "    <tr>\n",
       "      <th>Export Quantity</th>\n",
       "      <td>157614.47</td>\n",
       "    </tr>\n",
       "    <tr>\n",
       "      <th>Fat supply quantity (g/capita/day)</th>\n",
       "      <td>10235.74</td>\n",
       "    </tr>\n",
       "    <tr>\n",
       "      <th>Feed</th>\n",
       "      <td>225050.22</td>\n",
       "    </tr>\n",
       "    <tr>\n",
       "      <th>Food</th>\n",
       "      <td>1232361.10</td>\n",
       "    </tr>\n",
       "    <tr>\n",
       "      <th>Food supply (kcal/capita/day)</th>\n",
       "      <td>453383.00</td>\n",
       "    </tr>\n",
       "    <tr>\n",
       "      <th>Food supply quantity (kg/capita/yr)</th>\n",
       "      <td>49345.13</td>\n",
       "    </tr>\n",
       "    <tr>\n",
       "      <th>Import Quantity</th>\n",
       "      <td>267018.46</td>\n",
       "    </tr>\n",
       "    <tr>\n",
       "      <th>Losses</th>\n",
       "      <td>155439.00</td>\n",
       "    </tr>\n",
       "    <tr>\n",
       "      <th>Other uses (non-food)</th>\n",
       "      <td>66254.41</td>\n",
       "    </tr>\n",
       "    <tr>\n",
       "      <th>Processing</th>\n",
       "      <td>287929.00</td>\n",
       "    </tr>\n",
       "    <tr>\n",
       "      <th>Production</th>\n",
       "      <td>1947019.39</td>\n",
       "    </tr>\n",
       "    <tr>\n",
       "      <th>Protein supply quantity (g/capita/day)</th>\n",
       "      <td>11833.95</td>\n",
       "    </tr>\n",
       "    <tr>\n",
       "      <th>Residuals</th>\n",
       "      <td>30045.00</td>\n",
       "    </tr>\n",
       "    <tr>\n",
       "      <th>Seed</th>\n",
       "      <td>23976.82</td>\n",
       "    </tr>\n",
       "    <tr>\n",
       "      <th>Stock Variation</th>\n",
       "      <td>34910.99</td>\n",
       "    </tr>\n",
       "    <tr>\n",
       "      <th>Total Population - Both sexes</th>\n",
       "      <td>1058081.00</td>\n",
       "    </tr>\n",
       "    <tr>\n",
       "      <th>Tourist consumption</th>\n",
       "      <td>349.00</td>\n",
       "    </tr>\n",
       "  </tbody>\n",
       "</table>\n",
       "</div>"
      ],
      "text/plain": [
       "                                             Y2015\n",
       "Element                                           \n",
       "Domestic supply quantity                2021493.55\n",
       "Export Quantity                          157614.47\n",
       "Fat supply quantity (g/capita/day)        10235.74\n",
       "Feed                                     225050.22\n",
       "Food                                    1232361.10\n",
       "Food supply (kcal/capita/day)            453383.00\n",
       "Food supply quantity (kg/capita/yr)       49345.13\n",
       "Import Quantity                          267018.46\n",
       "Losses                                   155439.00\n",
       "Other uses (non-food)                     66254.41\n",
       "Processing                               287929.00\n",
       "Production                              1947019.39\n",
       "Protein supply quantity (g/capita/day)    11833.95\n",
       "Residuals                                 30045.00\n",
       "Seed                                      23976.82\n",
       "Stock Variation                           34910.99\n",
       "Total Population - Both sexes           1058081.00\n",
       "Tourist consumption                         349.00"
      ]
     },
     "execution_count": 136,
     "metadata": {},
     "output_type": "execute_result"
    }
   ],
   "source": [
    "#Q 17\n",
    "FoodDataSet.head()\n",
    "#FoodDataSet.filter({'Madagascar'}).groupby(['Area','Element'])['Y2015'].sum()\n",
    "FoodDataSet.groupby('Element')[['Y2015','Y2018']].sum()\n",
    "df_filtered=FoodDataSet[(FoodDataSet['Area'] == 'Madagascar') & (FoodDataSet['Element'] == 'Protein supply quantity') & (FoodDataSet['Y2015'].notna())]\n",
    "FoodDataSet.groupby('Element')[['Y2015']].sum()"
   ]
  },
  {
   "cell_type": "code",
   "execution_count": 143,
   "id": "18df333e-c346-4308-b744-222a7359d62c",
   "metadata": {},
   "outputs": [
    {
     "ename": "TypeError",
     "evalue": "list indices must be integers or slices, not tuple",
     "output_type": "error",
     "traceback": [
      "\u001b[1;31m---------------------------------------------------------------------------\u001b[0m",
      "\u001b[1;31mTypeError\u001b[0m                                 Traceback (most recent call last)",
      "Cell \u001b[1;32mIn[143], line 8\u001b[0m\n\u001b[0;32m      1\u001b[0m \u001b[38;5;66;03m#Q19\u001b[39;00m\n\u001b[0;32m      2\u001b[0m array  \u001b[38;5;241m=\u001b[39m ([[\u001b[38;5;241m94\u001b[39m, \u001b[38;5;241m89\u001b[39m, \u001b[38;5;241m63\u001b[39m],\n\u001b[0;32m      3\u001b[0m \n\u001b[0;32m      4\u001b[0m              [\u001b[38;5;241m93\u001b[39m, \u001b[38;5;241m92\u001b[39m, \u001b[38;5;241m48\u001b[39m],\n\u001b[0;32m      5\u001b[0m \n\u001b[0;32m      6\u001b[0m              [\u001b[38;5;241m92\u001b[39m, \u001b[38;5;241m94\u001b[39m, \u001b[38;5;241m56\u001b[39m]])\n\u001b[1;32m----> 8\u001b[0m a\u001b[38;5;241m=\u001b[39marray[ : \u001b[38;5;241m1\u001b[39m, \u001b[38;5;241m1\u001b[39m : ]\n",
      "\u001b[1;31mTypeError\u001b[0m: list indices must be integers or slices, not tuple"
     ]
    }
   ],
   "source": [
    "#Q19\n",
    "array  = ([[94, 89, 63],\n",
    "\n",
    "             [93, 92, 48],\n",
    "\n",
    "             [92, 94, 56]])\n",
    "\n",
    "a=array[ : 1, 1 : ]"
   ]
  },
  {
   "cell_type": "code",
   "execution_count": 80,
   "id": "57ac5569-918c-44c2-b4bd-892d3812066d",
   "metadata": {},
   "outputs": [
    {
     "name": "stdout",
     "output_type": "stream",
     "text": [
      "49\n"
     ]
    }
   ],
   "source": [
    "#Q20\n",
    "unique_values = len(FoodDataSet['Area'].unique())\n",
    "print(unique_values)\n"
   ]
  },
  {
   "cell_type": "code",
   "execution_count": null,
   "id": "70dd037e-2169-4a86-b196-39676e30a40a",
   "metadata": {},
   "outputs": [],
   "source": []
  }
 ],
 "metadata": {
  "kernelspec": {
   "display_name": "Python 3 (ipykernel)",
   "language": "python",
   "name": "python3"
  },
  "language_info": {
   "codemirror_mode": {
    "name": "ipython",
    "version": 3
   },
   "file_extension": ".py",
   "mimetype": "text/x-python",
   "name": "python",
   "nbconvert_exporter": "python",
   "pygments_lexer": "ipython3",
   "version": "3.11.7"
  }
 },
 "nbformat": 4,
 "nbformat_minor": 5
}
